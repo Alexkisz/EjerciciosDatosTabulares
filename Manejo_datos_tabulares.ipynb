{
 "cells": [
  {
   "cell_type": "markdown",
   "metadata": {
    "vscode": {
     "languageId": "plaintext"
    }
   },
   "source": [
    "# Manejo de Datos Tabulares con Listas de Diccionarios"
   ]
  },
  {
   "cell_type": "markdown",
   "metadata": {
    "vscode": {
     "languageId": "plaintext"
    }
   },
   "source": [
    "Este set de retos se centra en la manipulación de datos tabulares utilizando listas de diccionarios, una estructura fundamental en Python. Estas habilidades son esenciales en ciencia de datos, ya que permiten filtrar, transformar, agrupar y analizar datos crudos de manera eficiente. Dominar este tema forma la base para trabajar con herramientas avanzadas como Pandas y desarrollar soluciones sólidas para el análisis de datos en el mundo real.\n",
    "\n",
    "**Nota:**\n",
    "\n",
    "Los siguientes retos van seriados por ello es importante que los resuelvas en orden. En cada reto utilizarás conceptos aplicados en el reto anterior lo que te permitirá ir aumentando la complejidad gradualmente.\n",
    "\n",
    "Recuerda, no se trata de saberlo todo desde el principio. Estos retos están diseñados para que aprendas haciendo, cometiendo errores y resolviendo problemas de manera práctica. ¡Confía en el proceso!"
   ]
  },
  {
   "cell_type": "markdown",
   "metadata": {
    "vscode": {
     "languageId": "plaintext"
    }
   },
   "source": [
    "## Reto 1: Filtrado Básico de Registros\n",
    "\n",
    "**Descripción:**\n",
    "\n",
    "Crear una función que reciba una lista de diccionarios representando un conjunto de datos y devuelva solo los registros que cumplan con una condición simple.\n",
    "\n",
    "**Objetivo:**\n",
    "\n",
    "Filtrar registros basados en un valor específico en una clave dada.\n",
    "\n",
    "**Requerimientos:**\n",
    "\n",
    "1.\tLa función debe recibir:\n",
    "\t- Una lista de diccionarios (data).\n",
    "\t- Una clave por la cual se va a hacer el filtro (key).\n",
    "\t- Un valor del filtro (value).\n",
    "2.\tLa salida debe ser una lista con los registros que tengan value en la clave key.\n",
    "\n",
    "**Ejemplo de Entrada:**"
   ]
  },
  {
   "cell_type": "code",
   "execution_count": 1,
   "metadata": {},
   "outputs": [
    {
     "data": {
      "text/plain": [
       "[{'name': 'Alice', 'age': 25}]"
      ]
     },
     "execution_count": 1,
     "metadata": {},
     "output_type": "execute_result"
    }
   ],
   "source": [
    "from Soluciones.manejo_datos_tabulares import filter_records\n",
    "\n",
    "\n",
    "data = [{\"name\": \"Alice\", \"age\": 25}, {\"name\": \"Bob\", \"age\": 30}]\n",
    "# Se devolverán los registros en \"data\" que tengan el valor de \"age\" igual a 25\n",
    "filter_records(data, \"age\", 25)\n",
    "\n",
    "# Salida Esperada:"
   ]
  },
  {
   "cell_type": "markdown",
   "metadata": {},
   "source": [
    "**Hints:**\n",
    "\n",
    "- Usa bucles para recorrer cada registro.\n",
    "- El método [.get(key)](https://docs.python.org/3/library/stdtypes.html#dict.get) de los diccionarios puede ayudarte a acceder a los valores y evita errores que `dict_[key]` te da en caso de que el diccionario no tenga esa llave, además te permite poner un valor por default."
   ]
  },
  {
   "cell_type": "markdown",
   "metadata": {},
   "source": [
    "---"
   ]
  },
  {
   "cell_type": "markdown",
   "metadata": {},
   "source": [
    "## Reto 2: Cálculo de Promedio en una Columna\n",
    "\n",
    "**Descripción:**\n",
    "\n",
    "Crear una función que reciba una lista de diccionarios y calcule el promedio de los valores numéricos en una columna específica.\n",
    "\n",
    "**Objetivo:**\n",
    "\n",
    "Extraer y calcular el promedio de valores numéricos en una clave dada.\n",
    "\n",
    "**Requerimientos:**\n",
    "\n",
    "1. La función debe recibir:\n",
    "\t- Una lista de diccionarios (data).\n",
    "\t- Una clave numérica (key).\n",
    "2. La salida debe ser un número que represente el promedio de la variable enviada.\n",
    "\n",
    "**Ejemplo de Entrada:**"
   ]
  },
  {
   "cell_type": "code",
   "execution_count": 2,
   "metadata": {},
   "outputs": [
    {
     "data": {
      "text/plain": [
       "27.5"
      ]
     },
     "execution_count": 2,
     "metadata": {},
     "output_type": "execute_result"
    }
   ],
   "source": [
    "from Soluciones.manejo_datos_tabulares import calculate_average\n",
    "\n",
    "\n",
    "data = [{\"name\": \"Alice\", \"age\": 25}, {\"name\": \"Bob\", \"age\": 30}]\n",
    "# Se devolverá el promedio de los valores de \"age\" en \"data\"\n",
    "calculate_average(data, \"age\")\n",
    "\n",
    "# Salida Esperada:"
   ]
  },
  {
   "cell_type": "markdown",
   "metadata": {},
   "source": [
    "**Hints:**\n",
    "\n",
    "- Usa listas por comprensión para extraer los valores numéricos **(como en el Reto 1)**.\n",
    "- Asegúrate de manejar casos en los que la lista esté vacía."
   ]
  },
  {
   "cell_type": "markdown",
   "metadata": {},
   "source": [
    "---"
   ]
  },
  {
   "cell_type": "markdown",
   "metadata": {},
   "source": [
    "## Reto 3: Creación de una Nueva Columna\n",
    "\n",
    "**Descripción:**\n",
    "\n",
    "Agregar una nueva clave-valor a cada registro, donde el valor sea la suma de las otras columnas existentes.\n",
    "\n",
    "**Objetivo:**\n",
    "\n",
    "Modificar cada registro en la lista para incluir una nueva columna calculada.\n",
    "\n",
    "**Requerimientos:**\n",
    "\n",
    "1. La función debe recibir:\n",
    "\t- Una lista de diccionarios (data).\n",
    "\t- Una nueva clave (new_key).\n",
    "\t- Dos claves existentes (key1 y key2).\n",
    "2. La salida debe ser la lista con los registros modificados.\n",
    "\n",
    "**Ejemplo de Entrada:**\n"
   ]
  },
  {
   "cell_type": "code",
   "execution_count": 3,
   "metadata": {},
   "outputs": [
    {
     "data": {
      "text/plain": [
       "[{'value1': 10, 'value2': 20, 'total': 30},\n",
       " {'value1': 5, 'value2': 15, 'total': 20}]"
      ]
     },
     "execution_count": 3,
     "metadata": {},
     "output_type": "execute_result"
    }
   ],
   "source": [
    "from Soluciones.manejo_datos_tabulares import add_sum_column\n",
    "\n",
    "\n",
    "data = [{\"value1\": 10, \"value2\": 20}, {\"value1\": 5, \"value2\": 15}]\n",
    "# Se devolverá la suma de \"value1\" y \"value2\" en la columna \"total\"\n",
    "add_sum_column(data, \"total\", \"value1\", \"value2\")\n",
    "\n",
    "# Salida Esperada:"
   ]
  },
  {
   "cell_type": "markdown",
   "metadata": {},
   "source": [
    "**Hints:**\n",
    "\n",
    "- Usa bucles para recorrer cada registro.\n",
    "- Asegúrate de verificar que las claves key1 y key2 existan en cada registro.\n",
    "- Usa la validación de tipo de dato que **usaste en el Reto 2**."
   ]
  },
  {
   "cell_type": "markdown",
   "metadata": {},
   "source": [
    "---"
   ]
  },
  {
   "cell_type": "markdown",
   "metadata": {},
   "source": [
    "## Reto 4: Agrupamiento de Registros\n",
    "\n",
    "**Descripción:**\n",
    "\n",
    "Agrupar los registros por un valor en una clave específica y calcular el número de registros en cada grupo.\n",
    "\n",
    "**Objetivo:**\n",
    "\n",
    "Crear un resumen que cuente los registros por grupo.\n",
    "\n",
    "**Requerimientos:**\n",
    "\n",
    "1. La función debe recibir:\n",
    "\t- Una lista de diccionarios (data).\n",
    "\t- Una clave (key) para agrupar los datos.\n",
    "2. La salida debe ser un diccionario donde las claves sean los valores únicos de key y los valores sean los conteos.\n",
    "\n",
    "**Ejemplo de Entrada:**"
   ]
  },
  {
   "cell_type": "code",
   "execution_count": 4,
   "metadata": {},
   "outputs": [
    {
     "data": {
      "text/plain": [
       "{'A': 2, 'B': 1}"
      ]
     },
     "execution_count": 4,
     "metadata": {},
     "output_type": "execute_result"
    }
   ],
   "source": [
    "from Soluciones.manejo_datos_tabulares import group_records\n",
    "\n",
    "\n",
    "data = [{\"city\": \"A\"}, {\"city\": \"B\"}, {\"city\": \"A\"}]\n",
    "# Se devolverá un diccionario con los valores de \"city\" como clave\n",
    "# y el valor será la cantidad de registros con ese valor\n",
    "group_records(data, \"city\")\n",
    "\n",
    "# Salida Esperada:"
   ]
  },
  {
   "cell_type": "markdown",
   "metadata": {},
   "source": [
    "**Hints:**\n",
    "\n",
    "- Usa un diccionario para acumular los conteos.\n",
    "- El método [.get(key)](https://docs.python.org/3/library/stdtypes.html#dict.get) puede ayudar a acceder a los valores de los registros **(como en el Reto 1)**."
   ]
  },
  {
   "cell_type": "markdown",
   "metadata": {},
   "source": [
    "___"
   ]
  },
  {
   "cell_type": "markdown",
   "metadata": {},
   "source": [
    "## Reto 5: Resumen de Datos\n",
    "\n",
    "**Descripción:**\n",
    "\n",
    "Crear una función que devuelva un resumen de los datos, incluyendo el número total de registros, el promedio de una columna numérica y los valores únicos en otra columna.\n",
    "\n",
    "**Objetivo:**\n",
    "\n",
    "Consolidar el análisis básico de un conjunto de datos en un resumen.\n",
    "\n",
    "**Requerimientos:**\n",
    "\n",
    "1. La función debe recibir:\n",
    "\t- Una lista de diccionarios (data).\n",
    "\t- Una clave numérica (numeric_key) para el promedio.\n",
    "\t- Una clave (unique_key) para los valores únicos.\n",
    "2. La salida debe ser un diccionario con:\n",
    "\t- Total de registros.\n",
    "\t- Promedio de la columna numérica.\n",
    "\t- Lista de valores únicos de la otra columna.\n",
    "\n",
    "**Ejemplo de Entrada:**"
   ]
  },
  {
   "cell_type": "code",
   "execution_count": 5,
   "metadata": {},
   "outputs": [
    {
     "data": {
      "text/plain": [
       "{'total_records': 2, 'average': 27.5, 'unique_values': ['Bob', 'Alice']}"
      ]
     },
     "execution_count": 5,
     "metadata": {},
     "output_type": "execute_result"
    }
   ],
   "source": [
    "from Soluciones.manejo_datos_tabulares import summarize_data\n",
    "\n",
    "data = [{\"name\": \"Alice\", \"age\": 25}, {\"name\": \"Bob\", \"age\": 30}]\n",
    "summarize_data(data, \"age\", \"name\")\n",
    "\n",
    "# Salida Esperada:"
   ]
  },
  {
   "cell_type": "markdown",
   "metadata": {},
   "source": [
    "**Hints:**\n",
    "\n",
    "- Usa las funcion `calculate_average` para calcular el promedio.\n",
    "- Las claves únicas se pueden obtener utilizando un conjunto (set)."
   ]
  },
  {
   "cell_type": "markdown",
   "metadata": {},
   "source": [
    "___"
   ]
  },
  {
   "cell_type": "markdown",
   "metadata": {},
   "source": [
    "## Reto 6: Ordenamiento de Registros por una Clave\n",
    "\n",
    "**Descripción:**\n",
    "\n",
    "Crear una función que ordene una lista de diccionarios en función de los valores de una clave específica. Si los valores no son comparables o no existen en algunos registros, esos registros deben ignorarse.\n",
    "\n",
    "**Objetivo:**\n",
    "\n",
    "Implementar un ordenamiento ascendente o descendente basado en una clave.\n",
    "\n",
    "**Requerimientos:**\n",
    "\n",
    "1. La función debe recibir:\n",
    "\t- Una lista de diccionarios (data).\n",
    "\t- Una clave (key) para ordenar.\n",
    "\t- Un parámetro opcional (reverse) para especificar el orden.\n",
    "2. La salida debe ser la lista ordenada.\n",
    "\n",
    "**Ejemplo de Entrada:**"
   ]
  },
  {
   "cell_type": "code",
   "execution_count": 6,
   "metadata": {},
   "outputs": [
    {
     "data": {
      "text/plain": [
       "[{'name': 'Bob', 'age': 30},\n",
       " {'name': 'Alice', 'age': 25},\n",
       " {'name': 'David', 'age': 15}]"
      ]
     },
     "execution_count": 6,
     "metadata": {},
     "output_type": "execute_result"
    }
   ],
   "source": [
    "from Soluciones.manejo_datos_tabulares import sort_records\n",
    "\n",
    "\n",
    "data = [\n",
    "    {\"name\": \"Alice\", \"age\": 25},\n",
    "    {\"name\": \"Bob\", \"age\": 30},\n",
    "    {\"name\": \"Charlie\"},\n",
    "    {\"name\": \"David\", \"age\": 15},\n",
    "]\n",
    "# Se devolverán los registros ordenados por el valor de \"age\" de mayor a menor\n",
    "# como la edad de \"Charlie\" no está definida, no se incluirá en el resultado\n",
    "sort_records(data, \"age\", reverse=True)\n",
    "\n",
    "# Salida Esperada:"
   ]
  },
  {
   "cell_type": "markdown",
   "metadata": {},
   "source": [
    "**Hints:**\n",
    "\n",
    "- Usa el argumento key en la función [sorted()](https://docs.python.org/3/howto/sorting.html) para acceder al valor de la clave.\n",
    "- Maneja los registros que no tienen la clave especificada usando un filtro **como en Reto 1**."
   ]
  },
  {
   "cell_type": "markdown",
   "metadata": {},
   "source": [
    "___"
   ]
  },
  {
   "cell_type": "markdown",
   "metadata": {},
   "source": [
    "## Reto 7: Filtrado con Condiciones Complejas\n",
    "\n",
    "**Descripción:**\n",
    "\n",
    "Crear una función que permita filtrar los registros con múltiples condiciones, especificadas como un diccionario de clave-valor.\n",
    "\n",
    "**Objetivo:**\n",
    "\n",
    "Implementar un filtrado avanzado que combine varias condiciones.\n",
    "\n",
    "**Requerimientos:**\n",
    "\n",
    "1. La función debe recibir:\n",
    "\t- Una lista de diccionarios (data).\n",
    "\t- Un diccionario de condiciones (conditions).\n",
    "2. La salida debe ser la lista de registros que cumplen con todas las condiciones.\n",
    "\n",
    "**Ejemplo de Entrada:**"
   ]
  },
  {
   "cell_type": "code",
   "execution_count": 7,
   "metadata": {},
   "outputs": [
    {
     "data": {
      "text/plain": [
       "[{'name': 'Alice', 'age': 25, 'city': 'A'}]"
      ]
     },
     "execution_count": 7,
     "metadata": {},
     "output_type": "execute_result"
    }
   ],
   "source": [
    "from Soluciones.manejo_datos_tabulares import filter_with_conditions\n",
    "\n",
    "\n",
    "data = [\n",
    "    {\"name\": \"Alice\", \"age\": 25, \"city\": \"A\"},\n",
    "    {\"name\": \"Bob\", \"age\": 30, \"city\": \"B\"},\n",
    "    {\"name\": \"Charlie\", \"age\": 25, \"city\": \"C\"},\n",
    "]\n",
    "# Se devolverán los registros que cumplan \"age\" == 25 y \"city\" == \"A\"\n",
    "filter_with_conditions(data, {\"age\": 25, \"city\": \"A\"})\n",
    "\n",
    "# Salida Esperada:"
   ]
  },
  {
   "cell_type": "markdown",
   "metadata": {},
   "source": [
    "**Hints:**\n",
    "\n",
    "- Usa el método .items() de los diccionarios para iterar sobre las condiciones.\n",
    "- Verifica que todos los valores coincidan utilizando una combinación de bucles y condicionales."
   ]
  },
  {
   "cell_type": "markdown",
   "metadata": {},
   "source": [
    "___"
   ]
  },
  {
   "cell_type": "markdown",
   "metadata": {},
   "source": [
    "## Reto 8: Cálculo de Métricas Agregadas por Grupos\n",
    "\n",
    "**Descripción:**\n",
    "\n",
    "Crear una función que agrupe los registros por una clave y calcule métricas agregadas (promedio, suma y conteo) para otra clave numérica.\n",
    "\n",
    "**Objetivo:**\n",
    "\n",
    "Combinar agrupamiento con cálculo de métricas.\n",
    "\n",
    "**Requerimientos:**\n",
    "\n",
    "1. La función debe recibir:\n",
    "\t- Una lista de diccionarios (data).\n",
    "\t- Una clave para agrupar (group_key).\n",
    "\t- Una clave numérica para calcular métricas (numeric_key).\n",
    "2. La salida debe ser un diccionario con las métricas para cada grupo.\n",
    "\n",
    "**Ejemplo de Entrada:**"
   ]
  },
  {
   "cell_type": "code",
   "execution_count": 8,
   "metadata": {},
   "outputs": [
    {
     "data": {
      "text/plain": [
       "{'A': {'sum': 300, 'count': 2, 'average': 150.0},\n",
       " 'B': {'sum': 300, 'count': 1, 'average': 300.0}}"
      ]
     },
     "execution_count": 8,
     "metadata": {},
     "output_type": "execute_result"
    }
   ],
   "source": [
    "from Soluciones.manejo_datos_tabulares import group_and_calculate_metrics\n",
    "\n",
    "\n",
    "data = [{\"city\": \"A\", \"revenue\": 100}, {\"city\": \"A\", \"revenue\": 200}, {\"city\": \"B\", \"revenue\": 300}]\n",
    "# Se devolverá un diccionario con los valores de \"city\" como clave \n",
    "# (ya que es la clave agrupadora)\n",
    "# y el valor será un diccionario con las métricas calculadas para \"revenue\"\n",
    "group_and_calculate_metrics(data, \"city\", \"revenue\")\n",
    "\n",
    "# Salida Esperada:"
   ]
  },
  {
   "cell_type": "markdown",
   "metadata": {},
   "source": [
    "**Hints:**\n",
    "\n",
    "- Usa un diccionario para acumular los valores por grupo.\n",
    "- Calcula las métricas al final iterando sobre los valores acumulados."
   ]
  },
  {
   "cell_type": "markdown",
   "metadata": {},
   "source": [
    "___"
   ]
  },
  {
   "cell_type": "markdown",
   "metadata": {},
   "source": [
    "## Reto 9: Selección de las N Mayores o Menores\n",
    "\n",
    "**Descripción:**\n",
    "\n",
    "Crear una función que devuelva los N registros con los valores más altos o más bajos en una clave específica.\n",
    "\n",
    "**Objetivo:**\n",
    "\n",
    "Seleccionar los registros extremos basados en una clave.\n",
    "\n",
    "**Requerimientos:**\n",
    "\n",
    "1. La función debe recibir:\n",
    "\t- Una lista de diccionarios (data).\n",
    "\t- Una clave numérica (key).\n",
    "\t- Un número N (cantidad de registros a seleccionar).\n",
    "\t- Un parámetro opcional (reverse) para especificar si seleccionar los mayores o menores.\n",
    "2. La salida debe ser una lista con los registros seleccionados.\n",
    "\n",
    "**Ejemplo de Entrada:**"
   ]
  },
  {
   "cell_type": "code",
   "execution_count": 9,
   "metadata": {},
   "outputs": [
    {
     "data": {
      "text/plain": [
       "[{'name': 'Alice', 'score': 95}, {'name': 'Charlie', 'score': 90}]"
      ]
     },
     "execution_count": 9,
     "metadata": {},
     "output_type": "execute_result"
    }
   ],
   "source": [
    "from Soluciones.manejo_datos_tabulares import select_top_or_bottom\n",
    "\n",
    "\n",
    "data = [{\"name\": \"Alice\", \"score\": 95}, {\"name\": \"Bob\", \"score\": 80}, {\"name\": \"Charlie\", \"score\": 90}]\n",
    "# Se devolverán los 2 registros con el valor de \"score\" más alto\n",
    "select_top_or_bottom(data, \"score\", 2, reverse=True)\n",
    "\n",
    "# Salida Esperada:"
   ]
  },
  {
   "cell_type": "markdown",
   "metadata": {},
   "source": [
    "**Hints:**\n",
    "\n",
    "- Usa sorted() para ordenar los datos.\n",
    "- Devuelve los primeros N registros de la lista ordenada."
   ]
  },
  {
   "cell_type": "markdown",
   "metadata": {
    "vscode": {
     "languageId": "plaintext"
    }
   },
   "source": [
    "___"
   ]
  },
  {
   "cell_type": "markdown",
   "metadata": {},
   "source": [
    "## Reto 10: Consolidación de Datos y Reporte Final\n",
    "\n",
    "**Descripción:**\n",
    "\n",
    "Crear una función que tome una lista de diccionarios representando datos tabulares y genere un reporte final. El reporte debe incluir:\n",
    "1. Filtrado de los datos según una condición específica.\n",
    "2. Agrupamiento de los registros por una clave y cálculo de métricas agregadas (suma, promedio, conteo).\n",
    "3. Ordenamiento de los grupos por una métrica especificada (como promedio o suma).\n",
    "4. Selección de los N grupos con los valores más altos o más bajos en la métrica especificada.\n",
    "\n",
    "**Objetivo:**\n",
    "\n",
    "Aplicar de forma integrada las habilidades de filtrado, agrupamiento, cálculo de métricas, ordenamiento y selección para resolver un problema completo.\n",
    "\n",
    "**Requerimientos:**\n",
    "\n",
    "1. La función debe llamarse generate_final_report.\n",
    "2. Recibirá:\n",
    "    - Una lista de diccionarios (data) representando los registros.\n",
    "    - Una clave para filtrar (filter_key).\n",
    "    - Un valor para filtrar (filter_value).\n",
    "    - Una clave para agrupar (group_key).\n",
    "    - Una clave numérica para calcular métricas (numeric_key).\n",
    "    - Una métrica para ordenar (sort_metric), que puede ser “sum”, “average” o “count”.\n",
    "    - Un número N para seleccionar los grupos con los valores más altos o más bajos.\n",
    "    - Un parámetro opcional reverse para especificar si se seleccionan los valores más altos (True) o más bajos (False).\n",
    "3. La salida debe ser un diccionario con:\n",
    "    - Los grupos seleccionados.\n",
    "    - Sus métricas agregadas.\n",
    "\n",
    "**Ejemplo de Entrada:**"
   ]
  },
  {
   "cell_type": "code",
   "execution_count": 10,
   "metadata": {},
   "outputs": [
    {
     "data": {
      "text/plain": [
       "{'selected_groups': [{'group': 'C', 'sum': 400, 'count': 1, 'average': 400.0},\n",
       "  {'group': 'B', 'sum': 300, 'count': 1, 'average': 300.0}]}"
      ]
     },
     "execution_count": 10,
     "metadata": {},
     "output_type": "execute_result"
    }
   ],
   "source": [
    "from Soluciones.manejo_datos_tabulares import generate_final_report\n",
    "\n",
    "\n",
    "data = [\n",
    "    {\"city\": \"A\", \"revenue\": 100, \"category\": \"X\"},\n",
    "    {\"city\": \"A\", \"revenue\": 200, \"category\": \"Y\"},\n",
    "    {\"city\": \"B\", \"revenue\": 300, \"category\": \"X\"},\n",
    "    {\"city\": \"B\", \"revenue\": 100, \"category\": \"Y\"},\n",
    "    {\"city\": \"C\", \"revenue\": 400, \"category\": \"X\"},\n",
    "]\n",
    "\n",
    "generate_final_report(\n",
    "    data=data,\n",
    "    filter_key=\"category\",\n",
    "    filter_value=\"X\",\n",
    "    group_key=\"city\",\n",
    "    numeric_key=\"revenue\",\n",
    "    sort_metric=\"sum\",\n",
    "    N=2,\n",
    "    reverse=True\n",
    ")\n",
    "\n",
    "# Salida Esperada:"
   ]
  },
  {
   "cell_type": "markdown",
   "metadata": {},
   "source": [
    "**Hints:**\n",
    "\n",
    "1. Filtrado de Datos:\n",
    "- Usa comprensión de listas para crear una nueva lista que solo contenga los registros que cumplan con la condición.\n",
    "- El método `.get(key)` de los diccionarios es útil para acceder al valor de una clave. Si la clave no existe, devolverá `None`.\n",
    "- Compara el valor de la clave con el valor deseado (filter_value) para determinar si el registro debe incluirse.\n",
    "\n",
    "2. Agrupamiento y Cálculo de Métricas:\n",
    "- Crea un diccionario vacío donde las claves serán los valores únicos de group_key.\n",
    "- Asegúrate de verificar que los valores en la clave numeric_key sean números válidos antes de agregarlos al grupo.\n",
    "- Para cada grupo, guarda los totales (sum) y conteos (count).\n",
    "- Una vez agrupados los datos, calcula el promedio (average) para cada grupo dividiendo la suma entre el conteo.\n",
    "\n",
    "3. Ordenamiento:\n",
    "- Usa la función `sorted()` para ordenar los grupos. Recuerda que `sorted()` devuelve una nueva lista ordenada sin modificar el original.\n",
    "- Especifica una función de ordenamiento usando key=lambda, donde seleccionas la métrica (sort_metric) que se utilizará como criterio.\n",
    "- Usa el parámetro `reverse=True` para ordenar de forma descendente, o `reverse=False` para ascendente.\n",
    "\n",
    "4. Selección de los N Mejores o Peores:\n",
    "- Una vez ordenados los datos, usa slicing `([:N])` para seleccionar los primeros N elementos de la lista.\n",
    "- Si estás seleccionando los valores más bajos, asegúrate de que el orden sea ascendente (`reverse=False`). Para los valores más altos, debe ser descendente (`reverse=True`).\n",
    "\n",
    "5. Construcción del Reporte Final:\n",
    "- Crea un diccionario que contenga los grupos seleccionados y sus métricas.\n",
    "- Usa una clave como \"selected_groups\" para almacenar la lista final de grupos.\n",
    "- Asegúrate de que el formato del reporte sea claro y organizado.\n",
    "\n",
    "Consejos Generales\n",
    "\n",
    "- Divide el problema en pasos más pequeños y prueba cada uno por separado.\n",
    "- Usa prints temporales para verificar que cada parte del código esté funcionando como esperas.\n",
    "- Asegúrate de manejar casos especiales:\n",
    "- ¿Qué pasa si no hay datos que coincidan con el filtro?\n",
    "- ¿Qué ocurre si la métrica seleccionada no existe en los datos?\n",
    "- ¿Cómo manejar un valor de N mayor que el número de grupos disponibles?\n",
    "- Documenta tu código: escribe comentarios que expliquen lo que estás haciendo en cada paso."
   ]
  },
  {
   "cell_type": "markdown",
   "metadata": {},
   "source": []
  }
 ],
 "metadata": {
  "kernelspec": {
   "display_name": "dataelite-X2XjY-1W",
   "language": "python",
   "name": "python3"
  },
  "language_info": {
   "codemirror_mode": {
    "name": "ipython",
    "version": 3
   },
   "file_extension": ".py",
   "mimetype": "text/x-python",
   "name": "python",
   "nbconvert_exporter": "python",
   "pygments_lexer": "ipython3",
   "version": "3.11.6"
  }
 },
 "nbformat": 4,
 "nbformat_minor": 2
}
